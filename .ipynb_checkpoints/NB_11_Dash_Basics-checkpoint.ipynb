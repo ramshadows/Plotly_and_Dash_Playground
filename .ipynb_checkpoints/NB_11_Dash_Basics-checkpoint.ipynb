{
 "cells": [
  {
   "cell_type": "markdown",
   "metadata": {},
   "source": [
    "# Dash"
   ]
  },
  {
   "cell_type": "raw",
   "metadata": {},
   "source": [
    "Used for creating web based Dashboards purely in python.\n",
    "\n",
    "These dashboards are served as web applications that you can deploy.\n",
    "\n",
    "We can then connect and interact with the dashboards"
   ]
  },
  {
   "cell_type": "raw",
   "metadata": {},
   "source": [
    "Dash Apps are composed of two parts:\n",
    "\n",
    "1: Layout -> Describes how the application looks like\n",
    "\n",
    "2: The second part describes the Interactivity of the application"
   ]
  },
  {
   "cell_type": "raw",
   "metadata": {},
   "source": [
    "Dash offers two distinct component libraries\n",
    "\n",
    "1: dash_html_components library -> Which has a component for each HTML tag\n",
    "\n",
    "2: dash_core_components library -> Offers high level, interactive components that are generated with JavaScripts,\n",
    "   HTML, CSS through the React.js framework\n",
    "   \n",
    "Dash components - be they HTML or Core are described entirely through keyword attributes\n",
    "\n",
    "Dash is declarative - You will primarily describe your app through these attributes\n"
   ]
  },
  {
   "cell_type": "markdown",
   "metadata": {},
   "source": [
    "# Basic Dash Layouts Components"
   ]
  },
  {
   "cell_type": "markdown",
   "metadata": {},
   "source": [
    "## Objective"
   ]
  },
  {
   "cell_type": "raw",
   "metadata": {},
   "source": [
    "1: Create Dash App Object\n",
    "\n",
    "2: Edit the app's Layout:\n",
    "    i): HTML Components\n",
    "    ii): Adding graphs\n",
    "    iii) Insert plotly figures in a dash Layout\n",
    "    \n",
    "3: Run the app in the app server"
   ]
  },
  {
   "cell_type": "code",
   "execution_count": null,
   "metadata": {},
   "outputs": [],
   "source": []
  }
 ],
 "metadata": {
  "kernelspec": {
   "display_name": "Python 3",
   "language": "python",
   "name": "python3"
  },
  "language_info": {
   "codemirror_mode": {
    "name": "ipython",
    "version": 3
   },
   "file_extension": ".py",
   "mimetype": "text/x-python",
   "name": "python",
   "nbconvert_exporter": "python",
   "pygments_lexer": "ipython3",
   "version": "3.7.6"
  }
 },
 "nbformat": 4,
 "nbformat_minor": 4
}
