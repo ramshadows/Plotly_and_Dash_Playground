{
 "cells": [
  {
   "cell_type": "markdown",
   "metadata": {},
   "source": [
    "Box plots Visualize the variation of a feature by depicting the continous numerical data through quartiles\n",
    "\n",
    "We can then separate the data based on a categorical feature to compare the continous feature based on category\n",
    "For example - Weight(Continous data) vs Gender(Category)\n",
    "\n",
    "The Box Plots is a way of visually displaying the data distribution through their quartiles.\n",
    "Quartiles separate the data into four equal parts - i.e bottom 25 percent, then the next upper 25 percent then fills the middle 50 percent. In other word - 25 top, 50 middle and 25 bottom\n",
    "\n",
    "The middle line is the median - separates the higher half from the lower half\n",
    "\n",
    "Q1 and Q3 (IQR or Interquartile range - The length of the filled 50 percent)- Between Q1 and Q3 is the filled middle 50 percent of your data\n",
    "\n",
    "Min and Max - The Whiskers - 25 percent bottom and 25 percent top\n",
    "\n",
    "Note: A Box plot identifies Outliers from the Median compared to the rest of the data\n",
    "\n",
    "Box Plots Outliers\n",
    "\n",
    "1: Upper outliers\n",
    "\n",
    "Values that are larger than Q3 by at least 1.5 times the IQR - (Q3 minus Q1)\n",
    "\n",
    "2: Lower Outliers\n",
    "\n",
    "Values that are smaller than Q1 - the bottom of the box  by at least 1.5 times the IQR - (Q3 minus Q1)\n",
    "\n",
    "Note: Outliers will be displayed as singular markers outside the Whiskers\n",
    "\n"
   ]
  },
  {
   "cell_type": "code",
   "execution_count": 1,
   "metadata": {},
   "outputs": [],
   "source": [
    "import plotly.offline as pyo\n",
    "import plotly.graph_objs as go"
   ]
  },
  {
   "cell_type": "code",
   "execution_count": 2,
   "metadata": {},
   "outputs": [],
   "source": [
    "# set up an array of 20 data points, with 20 as the median value\n",
    "y = [1,14,14,15,16,18,18,19,19,20,20,23,24,26,27,27,28,29,33,54]"
   ]
  },
  {
   "cell_type": "code",
   "execution_count": 3,
   "metadata": {},
   "outputs": [
    {
     "data": {
      "text/plain": [
       "'box1.html'"
      ]
     },
     "execution_count": 3,
     "metadata": {},
     "output_type": "execute_result"
    }
   ],
   "source": [
    "data = [\n",
    "    go.Box(\n",
    "        y=y,\n",
    "        boxpoints='all', # display the original data points. If set to boxpoints=\"outliers\" shows only outlier positions\n",
    "        jitter=0.3,      # spread them out so they all appear\n",
    "        pointpos=-1.8    # offset them to the left of the box -Ve -> offset to the left, +Ve -> offset to the right\n",
    "    )\n",
    "]\n",
    "pyo.plot(data, filename='box1.html')"
   ]
  },
  {
   "cell_type": "code",
   "execution_count": 4,
   "metadata": {},
   "outputs": [
    {
     "data": {
      "text/plain": [
       "'box2.html'"
      ]
     },
     "execution_count": 4,
     "metadata": {},
     "output_type": "execute_result"
    }
   ],
   "source": [
    "data = [\n",
    "    go.Box(\n",
    "        y=y,\n",
    "        boxpoints='outliers' # display only outlying data points\n",
    "    )\n",
    "]\n",
    "pyo.plot(data, filename='box2.html')"
   ]
  },
  {
   "cell_type": "code",
   "execution_count": 5,
   "metadata": {},
   "outputs": [],
   "source": [
    "snodgrass = [.209,.205,.196,.210,.202,.207,.224,.223,.220,.201]\n",
    "twain = [.225,.262,.217,.240,.230,.229,.235,.217]"
   ]
  },
  {
   "cell_type": "code",
   "execution_count": 6,
   "metadata": {},
   "outputs": [
    {
     "data": {
      "text/plain": [
       "'box3.html'"
      ]
     },
     "execution_count": 6,
     "metadata": {},
     "output_type": "execute_result"
    }
   ],
   "source": [
    "data = [\n",
    "    go.Box(\n",
    "        y=snodgrass,\n",
    "        name='Snodgrass'\n",
    "    ),\n",
    "    go.Box(\n",
    "        y=twain,\n",
    "        name='Twain'\n",
    "    )\n",
    "]\n",
    "layout = go.Layout(\n",
    "    title = 'Comparison of three-letter-word frequencies<br>\\\n",
    "    between Quintus Curtius Snodgrass and Mark Twain'\n",
    ")\n",
    "fig = go.Figure(data=data, layout=layout)\n",
    "pyo.plot(fig, filename='box3.html')\n"
   ]
  },
  {
   "cell_type": "code",
   "execution_count": null,
   "metadata": {},
   "outputs": [],
   "source": []
  }
 ],
 "metadata": {
  "kernelspec": {
   "display_name": "Python 3",
   "language": "python",
   "name": "python3"
  },
  "language_info": {
   "codemirror_mode": {
    "name": "ipython",
    "version": 3
   },
   "file_extension": ".py",
   "mimetype": "text/x-python",
   "name": "python",
   "nbconvert_exporter": "python",
   "pygments_lexer": "ipython3",
   "version": "3.7.6"
  }
 },
 "nbformat": 4,
 "nbformat_minor": 4
}
